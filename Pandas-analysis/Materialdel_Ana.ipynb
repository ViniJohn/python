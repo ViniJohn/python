{
 "cells": [
  {
   "cell_type": "code",
   "execution_count": 1,
   "id": "7c00dbbd",
   "metadata": {},
   "outputs": [],
   "source": [
    "import pandas as pd\n",
    "import pyodbc\n",
    "import  datetime \n",
    "import os \n",
    "pd.set_option('display.max_columns', 1999)\n",
    "pd.set_option('display.max_rows', 1999)\n",
    "pd.set_option('max_colwidth', 40)\n"
   ]
  },
  {
   "cell_type": "code",
   "execution_count": 2,
   "id": "f8ca6766",
   "metadata": {},
   "outputs": [],
   "source": [
    "def get_csv(query,outfile):\n",
    "    server = '' \n",
    "    database = '' \n",
    "    username = '' \n",
    "    password = ''  \n",
    "    cnxn = pyodbc.connect('DRIVER={SQL Server};SERVER='+server+';DATABASE='+database+';UID='+username+';PWD='+ password)\n",
    "    sql_data = pd.read_sql(query,cnxn)\n",
    "    return sql_data.to_csv(f'{outfile}.csv',encoding=\"UTF-8\",index=False)\n",
    "\n",
    "query = 'select* from INC_ZMMVNT where RID = (select max(RID) from INC_ZMMVNT)'    \n",
    "outfile= 'Matdelivery'  \n",
    "#get_csv(query,outfile)"
   ]
  },
  {
   "cell_type": "code",
   "execution_count": 3,
   "id": "971a4eb3",
   "metadata": {},
   "outputs": [],
   "source": [
    "data_DF = pd.read_csv('Matdelivery.csv')"
   ]
  },
  {
   "cell_type": "code",
   "execution_count": 4,
   "id": "93908dc8",
   "metadata": {},
   "outputs": [],
   "source": [
    "data_DF.drop('RID' , axis=1, inplace=True)\n",
    "data_DF['ShipNot'] = data_DF['ShipNot'].apply(lambda x: pd.to_datetime(x,errors='coerce',format='%d.%m.%Y'))\n",
    "data_DF = data_DF[~data_DF['Material'].eq(0) & data_DF['Material'].le(3000000) & data_DF['MatDesc'].apply(lambda x: str(x)[0:3]).eq('SLT') ]\n",
    "ZMMVNT_STLWB_past = data_DF[data_DF['ShipNot'] < str(datetime.date.today()-datetime.timedelta(days=4))]"
   ]
  },
  {
   "cell_type": "code",
   "execution_count": 5,
   "id": "3ce6a853",
   "metadata": {},
   "outputs": [],
   "source": [
    "ZMMVNT_STLWB_past.to_excel(r'C:\\Users\\Desktop\\myworkbook.xlsx',index=False)"
   ]
  }
 ],
 "metadata": {
  "kernelspec": {
   "display_name": "Python 3",
   "language": "python",
   "name": "python3"
  },
  "language_info": {
   "codemirror_mode": {
    "name": "ipython",
    "version": 3
   },
   "file_extension": ".py",
   "mimetype": "text/x-python",
   "name": "python",
   "nbconvert_exporter": "python",
   "pygments_lexer": "ipython3",
   "version": "3.9.4"
  }
 },
 "nbformat": 4,
 "nbformat_minor": 5
}
