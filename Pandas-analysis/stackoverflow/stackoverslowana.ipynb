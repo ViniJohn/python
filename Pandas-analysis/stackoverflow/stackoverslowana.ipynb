{
 "cells": [
  {
   "cell_type": "code",
   "execution_count": 107,
   "metadata": {},
   "outputs": [],
   "source": [
    "import pandas as pd\n",
    "import numpy as np\n",
    "from matplotlib import pyplot as plt \n",
    "import os \n",
    "import re\n",
    "pd.set_option('display.max_columns',100)\n",
    "pd.set_option('display.max_rows',100)\n",
    "\n",
    "%matplotlib inline"
   ]
  },
  {
   "cell_type": "markdown",
   "metadata": {},
   "source": [
    "Result DF's\n"
   ]
  },
  {
   "cell_type": "code",
   "execution_count": 108,
   "metadata": {},
   "outputs": [],
   "source": [
    "\n",
    "result_csv_list = os.listdir(os.getcwd()+'\\\\2018-2021')\n",
    "result_csv_list.sort(reverse=True)\n",
    "dfs = []\n",
    "for file in result_csv_list:\n",
    "    if 'survey_results_public' in file :\n",
    "        dfs.append(pd.read_csv(os.getcwd()+'\\\\2018-2021'+'\\\\'+file,low_memory=False))\n",
    "\n",
    "result2021,result2020,result2019,result2018 = dfs"
   ]
  },
  {
   "cell_type": "code",
   "execution_count": 109,
   "metadata": {},
   "outputs": [],
   "source": [
    "result_df = [result2021,result2020,result2019,result2018]\n",
    "dfcol_list = [list(x.columns) for x in result_df]\n",
    "\n",
    "for item in dfcol_list:\n",
    "    item.sort(reverse=True)\n",
    "\n",
    "col_df = pd.DataFrame(dfcol_list).transpose()\n",
    "col_df.columns=['2021','2020','2019','2018']\n"
   ]
  },
  {
   "cell_type": "code",
   "execution_count": 110,
   "metadata": {},
   "outputs": [],
   "source": [
    "def replace2021(x):\n",
    "    if x==None:\n",
    "        return np.nan\n",
    "    if 'HaveWorkedWith' in x:\n",
    "        return x.replace('HaveWorkedWith','WorkedWith')\n",
    "    if 'WantToWorkWith' in x:\n",
    "        return x.replace('WantToWorkWith','DesireNextYear')\n",
    "    if x == 'ResponseId':\n",
    "        return 'Respondent'\n",
    "    if x=='ConvertedCompYearly':\n",
    "        return 'SalaryUSD'\n",
    "    return x\n",
    "\n",
    "def replace2020(x):\n",
    "    if x==None:\n",
    "        return np.nan\n",
    "    if x=='ConvertedComp':\n",
    "        return 'SalaryUSD'\n",
    "    return x\n",
    "\n",
    "def replace2020_2019(x):\n",
    "    if x==None:\n",
    "        return np.nan\n",
    "    if x=='ConvertedComp':\n",
    "        return 'SalaryUSD'\n",
    "    if x=='WebFrameDesireNextYear':\n",
    "        return 'WebframeDesireNextYear'\n",
    "    if x=='WebFrameWorkedWith':\n",
    "        return 'WebframeWorkedWith'\n",
    "    return x\n",
    "\n",
    "def replace2018(x):\n",
    "    if x == None:\n",
    "        return np.NaN\n",
    "    if x=='FrameworkWorkedWith':\n",
    "        return 'WebframeWorkedWith'\n",
    "    if x=='FrameworkDesireNextYear':\n",
    "        return 'WebframeDesireNextYear'\n",
    "    if x=='ConvertedSalary':\n",
    "        return 'SalaryUSD'\n",
    "    return x\n",
    "\n",
    "col_df['2021_replace'] = col_df['2021'].apply(replace2021)\n",
    "col_df['2020_replace'] = col_df['2020'].apply(replace2020_2019)\n",
    "col_df['2019_replace'] = col_df['2019'].apply(replace2020_2019)\n",
    "col_df['2018_replace'] = col_df['2018'].apply(replace2018)"
   ]
  },
  {
   "cell_type": "code",
   "execution_count": 111,
   "metadata": {},
   "outputs": [],
   "source": [
    "year = 2021\n",
    "for x in [result2021,result2020,result2019,result2018]:\n",
    "    maincol=f'{year}'\n",
    "    replacecol=f'{year}_replace'\n",
    "    x.rename(columns=dict(zip(col_df[maincol],col_df[replacecol])),inplace=True)\n",
    "    x['Year'] = year\n",
    "    year =year-1"
   ]
  },
  {
   "cell_type": "code",
   "execution_count": 112,
   "metadata": {},
   "outputs": [],
   "source": [
    "new_col = [list(x.columns) for x in result_df]\n",
    "com_col = list(set.intersection(*map(set,new_col)))"
   ]
  },
  {
   "cell_type": "code",
   "execution_count": 113,
   "metadata": {},
   "outputs": [],
   "source": [
    "datadf = pd.concat([result2021[com_col],result2020[com_col],result2019[com_col],result2018[com_col]]\n",
    "        ,ignore_index=True)"
   ]
  },
  {
   "cell_type": "markdown",
   "metadata": {},
   "source": [
    "LanguageWorkedwith Analysis"
   ]
  },
  {
   "cell_type": "code",
   "execution_count": 114,
   "metadata": {},
   "outputs": [],
   "source": [
    "datadf['LanguageWorkedWith'].replace(np.NaN,'',inplace=True)\n",
    "langknow = ['HTML/CSS', 'JavaScript', 'PHP', 'Ruby', 'SQL', 'TypeScript','Python', 'R', 'VBA','Objective-C','C#' ]\n",
    "\n",
    "for lan in langknow:\n",
    "    datadf[lan] = datadf['LanguageWorkedWith'].str.split(';').apply(lambda x: True if lan in x else False)\n"
   ]
  },
  {
   "cell_type": "code",
   "execution_count": 115,
   "metadata": {},
   "outputs": [],
   "source": [
    "lag_agg = {x:'sum' for x in langknow}\n",
    "lag_agg['LanguageWorkedWith'] = 'count'\n",
    "langworkedwiith_df = datadf.groupby('Year').agg(lag_agg)\n"
   ]
  },
  {
   "cell_type": "code",
   "execution_count": 132,
   "metadata": {},
   "outputs": [],
   "source": [
    "langworkedwiith_df.loc[langworkedwiith_df['HTML/CSS']==0,'HTML/CSS'] = langworkedwiith_df['HTML/CSS'].median()\n",
    "langworkedwiith_df = langworkedwiith_df.div(langworkedwiith_df['LanguageWorkedWith']/100,axis=0)\n",
    "langworkedwiith_df.drop('LanguageWorkedWith',axis=1,inplace=True)"
   ]
  },
  {
   "cell_type": "code",
   "execution_count": 180,
   "metadata": {},
   "outputs": [
    {
     "data": {
      "text/plain": [
       "Text(0, 0.5, 'Languange')"
      ]
     },
     "execution_count": 180,
     "metadata": {},
     "output_type": "execute_result"
    },
    {
     "data": {
      "image/png": "[encoded data removed]",
      "text/plain": [
       "<Figure size 432x288 with 1 Axes>"
      ]
     },
     "metadata": {},
     "output_type": "display_data"
    }
   ],
   "source": [
    "ax = langworkedwiith_df.transpose().plot(kind='barh')\n",
    "ax.set_xlabel('Percentage')\n",
    "ax.set_ylabel('Languange')"
   ]
  }
 ],
 "metadata": {
  "interpreter": {
   "hash": "9f025226abd5e51f7f4f64756992f0f70e005ef013bdad104eba0ba4ddcbac31"
  },
  "kernelspec": {
   "display_name": "Python 3.9.4 64-bit ('venv': venv)",
   "name": "python3"
  },
  "language_info": {
   "codemirror_mode": {
    "name": "ipython",
    "version": 3
   },
   "file_extension": ".py",
   "mimetype": "text/x-python",
   "name": "python",
   "nbconvert_exporter": "python",
   "pygments_lexer": "ipython3",
   "version": "3.9.4"
  },
  "orig_nbformat": 4
 },
 "nbformat": 4,
 "nbformat_minor": 2
}
