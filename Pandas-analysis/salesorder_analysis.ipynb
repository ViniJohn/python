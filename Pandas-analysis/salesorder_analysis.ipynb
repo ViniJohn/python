{
 "cells": [
  {
   "cell_type": "code",
   "execution_count": 3,
   "id": "e652a5ca",
   "metadata": {},
   "outputs": [],
   "source": [
    "import sys\n",
    "import pandas as pd\n",
    "import numpy as np\n",
    "import pyodbc\n",
    "import logging\n",
    "import matplotlib\n",
    "\n",
    "logging.basicConfig(filename='logs',level=logging.DEBUG,\n",
    "                    format='%(asctime)s:%(levelname)s:%(message)s')\n",
    "\n",
    "def get_csv_sql(connection_string,query,out_filename):\n",
    "    '''\n",
    "    Funtion to get the data from sql and saving it as csv\n",
    "\n",
    "    '''\n",
    "    try:\n",
    "        \n",
    "        connection = pyodbc.connect(connection_string)\n",
    "        logging.debug('connection to sql server is successful')\n",
    "\n",
    "    except pyodbc.InterfaceError as err:\n",
    "\n",
    "        logging.error('''connection to sql server failed: check the connection srting:''')\n",
    "        logging.error(connection_string)\n",
    "        logging.error(err)\n",
    " \n",
    "    SQL_data = pd.read_sql(query,connection)\n",
    "    return SQL_data.to_csv(('{}.csv'.format(out_filename)), encoding='utf-8', index=False)\n",
    "\n",
    "#Reading csv file \n",
    "    connection_string = r'DRIVER={SQL Server};SERVER=\"192.168.70.24\";DATABASE=\"epp_planning\";UID=\"myEssel\";PWD=\"zaq!@wsx12345\"' \n",
    "    query = 'select * from INC_ZSOBOOk where RID=(select max(RID) from INC_ZSOBOOK)'\n",
    "    out_filename = 'testcsv'\n",
    "    get_csv_sql(connection_string,query,out_filename)\n",
    "\n",
    "#blablablabab\n",
    "\n"
   ]
  },
  {
   "cell_type": "code",
   "execution_count": null,
   "id": "74d8c44e",
   "metadata": {},
   "outputs": [],
   "source": []
  }
 ],
 "metadata": {
  "kernelspec": {
   "display_name": "Python 3",
   "language": "python",
   "name": "python3"
  },
  "language_info": {
   "codemirror_mode": {
    "name": "ipython",
    "version": 3
   },
   "file_extension": ".py",
   "mimetype": "text/x-python",
   "name": "python",
   "nbconvert_exporter": "python",
   "pygments_lexer": "ipython3",
   "version": "3.9.4"
  }
 },
 "nbformat": 4,
 "nbformat_minor": 5
}
