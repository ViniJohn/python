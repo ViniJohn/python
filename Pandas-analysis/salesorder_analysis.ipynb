{
 "cells": [
  {
   "cell_type": "code",
   "execution_count": 24,
   "id": "e652a5ca",
   "metadata": {},
   "outputs": [],
   "source": [
    "import os\n",
    "import pandas as pd\n",
    "import numpy as np\n",
    "import pyodbc\n",
    "import logging\n",
    "import matplotlib\n",
    "import configparser\n",
    "\n",
    "logging.basicConfig(filename='logs',level=logging.DEBUG,\n",
    "                    format='%(asctime)s:%(levelname)s:%(message)s')\n",
    "class SoAnalysis:\n",
    "    def __init__(self):\n",
    "        pass\n",
    "        \n",
    "    def get_csv_sql(self,query,out_filename):\n",
    "        '''\n",
    "        Funtion to get the data from sql and saving it as csv\n",
    "        '''\n",
    "        try:\n",
    "            config_section = 'sql'\n",
    "            server = self.config_read(config_section)['server']\n",
    "            database = self.config_read(config_section)['database'] \n",
    "            username = self.config_read(config_section)['username'] \n",
    "            password = self.config_read(config_section)['password']  \n",
    "            connection = pyodbc.connect('DRIVER={SQL Server};SERVER='+server+';DATABASE='+database+';UID='+username+';PWD='+ password)\n",
    "            logging.debug('connection to sql server is successful')\n",
    "\n",
    "        except pyodbc.InterfaceError as err:\n",
    "            logging.error('''connection to sql server failed: check the connection srting:''')\n",
    "            logging.error(connection_string)\n",
    "            logging.error(err)\n",
    "\n",
    "        SQL_data = pd.read_sql(query,connection)\n",
    "        return SQL_data.to_csv(('{}.csv'.format(out_filename)), encoding='utf-8', index=False)\n",
    "\n",
    "    @staticmethod\n",
    "    def config_read(fnc_variable):\n",
    "        config = configparser.ConfigParser()\n",
    "        config.read(os.getcwd()+'\\\\config.ini')\n",
    "\n",
    "        if fnc_variable == 'sql':\n",
    "            return {'server' : config['sql']['server'],\n",
    "                    'database' :config['sql']['database'],\n",
    "                    'username' :config['sql']['username'],\n",
    "                    'password' : config['sql']['password']\n",
    "                    }\n",
    "        \n",
    "\n"
   ]
  },
  {
   "cell_type": "code",
   "execution_count": 25,
   "id": "74d8c44e",
   "metadata": {},
   "outputs": [],
   "source": [
    "query = 'select * from INC_ZSOBOOk where RID=(select max(RID) from INC_ZSOBOOK)'\n",
    "out_filename = 'testcsv'\n",
    "a = SoAnalysis()\n",
    "a.get_csv_sql(query,out_filename)\n"
   ]
  },
  {
   "cell_type": "code",
   "execution_count": null,
   "id": "5da71aa3",
   "metadata": {},
   "outputs": [],
   "source": []
  }
 ],
 "metadata": {
  "kernelspec": {
   "display_name": "Python 3",
   "language": "python",
   "name": "python3"
  },
  "language_info": {
   "codemirror_mode": {
    "name": "ipython",
    "version": 3
   },
   "file_extension": ".py",
   "mimetype": "text/x-python",
   "name": "python",
   "nbconvert_exporter": "python",
   "pygments_lexer": "ipython3",
   "version": "3.9.4"
  }
 },
 "nbformat": 4,
 "nbformat_minor": 5
}
