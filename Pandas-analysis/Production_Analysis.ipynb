{
 "cells": [
  {
   "cell_type": "markdown",
   "id": "f449d7e6",
   "metadata": {},
   "source": [
    "#                                            Prodution Analysis"
   ]
  },
  {
   "cell_type": "markdown",
   "id": "8ae61e6d",
   "metadata": {},
   "source": [
    "#### Importing dependecies & setting up display enviroment "
   ]
  },
  {
   "cell_type": "code",
   "execution_count": 1,
   "id": "fcf59564",
   "metadata": {},
   "outputs": [],
   "source": [
    "import pandas as pd \n",
    "import openpyxl\n",
    "import matplotlib.pyplot as plt\n",
    "import os \n",
    "import numpy as np\n",
    "import calendar\n",
    "%matplotlib inline\n",
    "pd.set_option('display.max_columns', 1000)  # or 1000\n",
    "pd.set_option('display.max_rows', 1000)  # or 1000\n",
    "pd.set_option('display.max_colwidth', 199)  # or 199"
   ]
  },
  {
   "cell_type": "markdown",
   "id": "379c2703",
   "metadata": {},
   "source": [
    "#### importing Data and converting them into data frame objects"
   ]
  },
  {
   "cell_type": "code",
   "execution_count": 110,
   "id": "dba17d33",
   "metadata": {},
   "outputs": [],
   "source": [
    "path_ = r'C:\\Users\\peter.vini\\Desktop\\python\\Pandas-analysis\\production estimate\\\\'\n",
    "def read_DF(path_):\n",
    "    customer_DF,csmaterial_DF,material_DF,prod_DF\\\n",
    "    = [pd.read_csv(path_ + DF) for DF in os.listdir(path_) if os.path.exists(path_) ]\n",
    "    return customer_DF,csmaterial_DF,material_DF,prod_DF\n",
    "customer_DF,csmaterial_DF,material_DF,prod_DF = read_DF(path_)"
   ]
  },
  {
   "cell_type": "markdown",
   "id": "39d97d78",
   "metadata": {},
   "source": [
    "#### Data Preparation  \n",
    "##### Removing duplicates and not needed data \n",
    "##### merging the data frames (data_DF--> Preapred data frame for analysis)"
   ]
  },
  {
   "cell_type": "code",
   "execution_count": 111,
   "id": "3dd8acf6",
   "metadata": {},
   "outputs": [],
   "source": [
    "#--prod_DF--\n",
    "prod_DF.drop(['TUBETYPE','OLDMATNO','PWOAverage','PWOCount'],axis='columns',inplace=True)\n",
    "prod_DF['MONTH']=prod_DF['MONTH'].apply(lambda x: calendar.month_name[round(x)])\n",
    "\n",
    "#--material_DF--\n",
    "material_DF.drop_duplicates(subset=['Material2'], ignore_index=True,inplace=True)\n",
    "\n",
    "#--csmaterial_DF--\n",
    "csmaterial_DF = csmaterial_DF[['Customer','Material']]\n",
    "csmaterial_DF.drop_duplicates(subset=['Material'],ignore_index=True,inplace=True)\n",
    "\n",
    "#--customer_DF--\n",
    "customer_DF = customer_DF[['Sold2P','Sold2PName','Material']]\n",
    "customer_DF.drop_duplicates(subset=['Material'], ignore_index=True, inplace=True)\n",
    "customer_DF.drop_duplicates(subset=['Sold2P'],ignore_index=True, inplace=True)\n",
    "\n",
    "#--data_DF--\n",
    "data_DF = prod_DF.merge(material_DF, how='left', left_on='MATERIAL', right_on='Material2')\n",
    "data_DF = data_DF.merge(csmaterial_DF, how='left', on='Material')\n",
    "data_DF = data_DF.merge(customer_DF, how='left', left_on='Customer', right_on='Sold2P')\n",
    "fill_na = {'Customer':0,'Sold2P':0,'Sold2PName':'Unknown','Material':0}\n",
    "data_DF.fillna(value=fill_na,inplace=True)"
   ]
  },
  {
   "cell_type": "markdown",
   "id": "8a3eaf79",
   "metadata": {},
   "source": [
    "## Analysis"
   ]
  },
  {
   "cell_type": "code",
   "execution_count": 131,
   "id": "5d6affc7",
   "metadata": {},
   "outputs": [],
   "source": [
    "prod_by_month = data_DF[['WRKCENTER','MONTH','Quantity']]\\\n",
    "                .groupby(by=['MONTH','WRKCENTER'], as_index=False)\\\n",
    "                ['Quantity'].sum()\n",
    "\n",
    "prod_by_customer = data_DF[['WRKCENTER','Sold2PName','Quantity']]\\\n",
    "                .groupby(by=['WRKCENTER','Sold2PName'], as_index=False)\\\n",
    "                ['Quantity'].sum()\n",
    "\n",
    "prod_gap_month = prod_by_month\n",
    "prod_gap_month['Target'] = 25_000_000\n",
    "prod_gap_month['Gap'] = prod_gap_month['Target'] - prod_gap_month['Quantity']\n"
   ]
  },
  {
   "cell_type": "markdown",
   "id": "67f4b09c",
   "metadata": {},
   "source": [
    "#### Saving the data to Excel file "
   ]
  },
  {
   "cell_type": "code",
   "execution_count": 140,
   "id": "09d865d7",
   "metadata": {},
   "outputs": [],
   "source": [
    "if os.path.isfile(path_+'Prodana.xlsx'):\n",
    "    with pd.ExcelWriter(path_+'Prodana.xlsx', mode='a') as writer:\n",
    "        prod_by_month.to_excel(writer, sheet_name='By_month',index=False)\n",
    "        prod_by_customer.to_excel(writer, sheet_name='By_customer',index=False)\n",
    "        prod_gap_month.to_excel(writer, sheet_name='ProdLoss',index=False)\n",
    "else:\n",
    "    with pd.ExcelWriter(path_+'Prodana.xlsx') as writer:\n",
    "        prod_by_month.to_excel(writer, sheet_name='By_month',index=False)\n",
    "        prod_by_customer.to_excel(writer, sheet_name='By_customer',index=False)\n",
    "        prod_gap_month.to_excel(writer, sheet_name='ProdLoss',index=False)    "
   ]
  }
 ],
 "metadata": {
  "kernelspec": {
   "display_name": "Python 3",
   "language": "python",
   "name": "python3"
  },
  "language_info": {
   "codemirror_mode": {
    "name": "ipython",
    "version": 3
   },
   "file_extension": ".py",
   "mimetype": "text/x-python",
   "name": "python",
   "nbconvert_exporter": "python",
   "pygments_lexer": "ipython3",
   "version": "3.9.4"
  }
 },
 "nbformat": 4,
 "nbformat_minor": 5
}
